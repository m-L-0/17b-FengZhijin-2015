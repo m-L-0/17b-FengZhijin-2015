{
 "cells": [
  {
   "cell_type": "code",
   "execution_count": 8,
   "metadata": {},
   "outputs": [
    {
     "name": "stdout",
     "output_type": "stream",
     "text": [
      "Extracting ../data/fashion/train-images-idx3-ubyte.gz\n",
      "Extracting ../data/fashion/train-labels-idx1-ubyte.gz\n",
      "Extracting ../data/fashion/t10k-images-idx3-ubyte.gz\n",
      "Extracting ../data/fashion/t10k-labels-idx1-ubyte.gz\n",
      "Writing:  train.tfrecords\n",
      "Writing:  validation.tfrecords\n",
      "Writing:  test.tfrecords\n"
     ]
    }
   ],
   "source": [
    "# coding: utf-8\n",
    "# author: Fengzhijin\n",
    "# time: 2017.11.16\n",
    "# ==================================\n",
    "'''\n",
    "实现了将FashionMNIST数据集源文件转换成tfrecords文件\n",
    "1._int64_feature() - int64数据转换函数\n",
    "2._bytes_feature() - 二进制字符串转换函数\n",
    "3.convert_to() - tfrecords文件生成函数\n",
    "'''\n",
    "\n",
    "from __future__ import absolute_import\n",
    "from __future__ import division\n",
    "from __future__ import print_function\n",
    "import tensorflow as tf\n",
    "from tensorflow.contrib.learn.python.learn.datasets import mnist\n",
    "\n",
    "\n",
    "# 转换成int64数据\n",
    "def _int64_feature(value):\n",
    "    return tf.train.Feature(int64_list=tf.train.Int64List(value=[value]))\n",
    "\n",
    "\n",
    "# 转换成二进制字符串数据\n",
    "def _bytes_feature(value):\n",
    "    return tf.train.Feature(bytes_list=tf.train.BytesList(value=[value]))\n",
    "\n",
    "\n",
    "# 生成tfrecords文件\n",
    "def convert_to(data_set, name):\n",
    "    images = data_set.images    # 图片数据\n",
    "    labels = data_set.labels    # 标签数据\n",
    "    num_examples = data_set.num_examples    # 图片个数\n",
    "    \n",
    "    # 创建tfrecords文件并进行写操作\n",
    "    with tf.python_io.TFRecordWriter('../data/tfrecords/'+name+'.tfrecords') as writer:\n",
    "        print('Writing:  '+name+'.tfrecords')\n",
    "        for index in range(num_examples):\n",
    "            image_raw = images[index].tostring()    # 将图片数据转换成字符串\n",
    "            # 将一个样例转换成Example Protocol Buffer，并写入数据\n",
    "            example = tf.train.Example(features=tf.train.Features(feature={\n",
    "                'label': _int64_feature(int(labels[index])),\n",
    "                'image_raw': _bytes_feature(image_raw)}))\n",
    "            writer.write(example.SerializeToString())\n",
    "\n",
    "\n",
    "if __name__ == '__main__':\n",
    "    # mnist数据路径\n",
    "    data_file = '../data/fashion/'\n",
    "    # 将mnist数据进行处理读取，分成train、validation、test三种数据\n",
    "    data_sets = mnist.read_data_sets(data_file,\n",
    "                                     dtype=tf.uint8,\n",
    "                                     reshape=False,\n",
    "                                     validation_size=5000)\n",
    "    convert_to(data_sets.train, 'train')    # 生成训练集tfrecords文件\n",
    "    convert_to(data_sets.validation, 'validation')    # 生成验证集tfrecords文件\n",
    "    convert_to(data_sets.test, 'test')    # 生成测试集tfrecords文件"
   ]
  },
  {
   "cell_type": "code",
   "execution_count": null,
   "metadata": {},
   "outputs": [],
   "source": []
  }
 ],
 "metadata": {
  "kernelspec": {
   "display_name": "Python 3",
   "language": "python",
   "name": "python3"
  },
  "language_info": {
   "codemirror_mode": {
    "name": "ipython",
    "version": 3
   },
   "file_extension": ".py",
   "mimetype": "text/x-python",
   "name": "python",
   "nbconvert_exporter": "python",
   "pygments_lexer": "ipython3",
   "version": "3.5.2"
  }
 },
 "nbformat": 4,
 "nbformat_minor": 2
}
