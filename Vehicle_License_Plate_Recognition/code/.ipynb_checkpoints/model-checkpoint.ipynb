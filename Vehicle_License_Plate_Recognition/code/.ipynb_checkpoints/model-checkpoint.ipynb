{
 "cells": [
  {
   "cell_type": "code",
   "execution_count": null,
   "metadata": {},
   "outputs": [],
   "source": [
    "import tensorflow as tf\n",
    "import read_data as rd\n",
    "\n",
    "with tf.Graph().as_default() as new_graph:\n",
    "    x, y_ = rd.get_test()\n",
    "    with tf.gfile.FastGFile('./model/pb/graph.pb', 'rb') as f:\n",
    "        graph_def = tf.GraphDef()\n",
    "        graph_def.ParseFromString(f.read())\n",
    "        g_out = tf.import_graph_def(\n",
    "            graph_def,\n",
    "            input_map={'x-input:0': x,\n",
    "                       'p_keep_conv': 1.0},\n",
    "            return_elements=['ArgMax:0'])\n",
    "    y = g_out[0]\n",
    "    correct_prediction = tf.equal(y, tf.argmax(y_, 1))\n",
    "    accuracy = tf.reduce_mean(tf.cast(correct_prediction, tf.float32))\n",
    "with tf.Session(graph=new_graph) as sess:\n",
    "    print(sess.run(accuracy))\n"
   ]
  }
 ],
 "metadata": {
  "kernelspec": {
   "display_name": "Python 3",
   "language": "python",
   "name": "python3"
  },
  "language_info": {
   "codemirror_mode": {
    "name": "ipython",
    "version": 3
   },
   "file_extension": ".py",
   "mimetype": "text/x-python",
   "name": "python",
   "nbconvert_exporter": "python",
   "pygments_lexer": "ipython3",
   "version": "3.5.2"
  }
 },
 "nbformat": 4,
 "nbformat_minor": 2
}
